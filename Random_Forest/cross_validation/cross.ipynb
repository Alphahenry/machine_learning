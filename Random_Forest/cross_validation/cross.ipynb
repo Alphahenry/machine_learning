{
 "cells": [
  {
   "cell_type": "markdown",
   "id": "c5b69c56-9675-4f46-ad50-d18e84ed8789",
   "metadata": {},
   "source": [
    "# K_fOLD CROSS VALIDATION"
   ]
  },
  {
   "cell_type": "markdown",
   "id": "31671106-31d6-489d-9e4d-9eb4d34f093e",
   "metadata": {},
   "source": [
    "\r",
    "<p><strong>\n",
    "Cross-validation is a crucial technique in machine learning used to evaluate the effectivenes, generalizability of a model</strong></p>\n",
    "<p><strong> It aims to prevent overfitting, which occurs when a model performs well on the training data but fails to generalize to unseen</strong></p>\n",
    "<p>data</p>a"
   ]
  },
  {
   "cell_type": "code",
   "execution_count": 1,
   "id": "5fc04929-c465-4520-a3c6-94bd30d31672",
   "metadata": {},
   "outputs": [],
   "source": [
    "#import libraries\n",
    "import pandas as pd\n",
    "from  sklearn.linear_model import LogisticRegression\n",
    "from sklearn.ensemble import RandomForestClassifier\n",
    "import numpy as np\n",
    "from sklearn.svm import SVC\n",
    "from sklearn.datasets import load_digits"
   ]
  },
  {
   "cell_type": "code",
   "execution_count": 2,
   "id": "a932a3c9-a8ea-4b6a-814c-cac8c26aa6f8",
   "metadata": {},
   "outputs": [],
   "source": [
    "#load dataset\n",
    "digits = load_digits()"
   ]
  },
  {
   "cell_type": "code",
   "execution_count": 3,
   "id": "1abfe74d-ded2-4e6f-9336-9ca66d022856",
   "metadata": {},
   "outputs": [],
   "source": [
    "from sklearn.model_selection import train_test_split"
   ]
  },
  {
   "cell_type": "code",
   "execution_count": 4,
   "id": "aa563671-0b02-49c5-bc4d-e3bc17f31e0d",
   "metadata": {},
   "outputs": [],
   "source": [
    "X_train, X_test, y_train, y_test = train_test_split(digits.data, digits.target, test_size = 0.3)"
   ]
  },
  {
   "cell_type": "code",
   "execution_count": 16,
   "id": "4b6974db-7a83-4055-b26d-4e10e76aab7d",
   "metadata": {},
   "outputs": [],
   "source": [
    "X = digits.data"
   ]
  },
  {
   "cell_type": "code",
   "execution_count": 17,
   "id": "1147b9c8-8412-4099-a97f-ee500dc0569b",
   "metadata": {},
   "outputs": [],
   "source": [
    "y = digits.target"
   ]
  },
  {
   "cell_type": "markdown",
   "id": "3826d063-2594-4a88-a70d-7c4ea2c737df",
   "metadata": {},
   "source": [
    "## logistic regression model"
   ]
  },
  {
   "cell_type": "code",
   "execution_count": 5,
   "id": "8b10d818-b9ed-47aa-9d85-6c24e6cbbfbe",
   "metadata": {},
   "outputs": [
    {
     "name": "stderr",
     "output_type": "stream",
     "text": [
      "C:\\Python\\Python310\\lib\\site-packages\\sklearn\\linear_model\\_logistic.py:469: ConvergenceWarning: lbfgs failed to converge (status=1):\n",
      "STOP: TOTAL NO. of ITERATIONS REACHED LIMIT.\n",
      "\n",
      "Increase the number of iterations (max_iter) or scale the data as shown in:\n",
      "    https://scikit-learn.org/stable/modules/preprocessing.html\n",
      "Please also refer to the documentation for alternative solver options:\n",
      "    https://scikit-learn.org/stable/modules/linear_model.html#logistic-regression\n",
      "  n_iter_i = _check_optimize_result(\n"
     ]
    },
    {
     "data": {
      "text/plain": [
       "0.9574074074074074"
      ]
     },
     "execution_count": 5,
     "metadata": {},
     "output_type": "execute_result"
    }
   ],
   "source": [
    "#logistic regression model\n",
    "LR_model = LogisticRegression()\n",
    "LR_model.fit(X_train, y_train)\n",
    "LR_model.score(X_test, y_test)"
   ]
  },
  {
   "cell_type": "markdown",
   "id": "22b095c0-dce7-4dd4-8322-db9d6ea8f5de",
   "metadata": {},
   "source": [
    "## SVM Model"
   ]
  },
  {
   "cell_type": "code",
   "execution_count": 6,
   "id": "7dd27134-d09e-4b96-9e9e-f0af317650b8",
   "metadata": {},
   "outputs": [
    {
     "data": {
      "text/plain": [
       "0.9814814814814815"
      ]
     },
     "execution_count": 6,
     "metadata": {},
     "output_type": "execute_result"
    }
   ],
   "source": [
    "#Support Vector Machine model\n",
    "sv_model = SVC()\n",
    "sv_model.fit(X_train, y_train)\n",
    "sv_model.score(X_test, y_test)"
   ]
  },
  {
   "cell_type": "markdown",
   "id": "fd10ab8d-ed44-4bd7-812f-3029e70c5648",
   "metadata": {},
   "source": [
    "## RandomForestclassifier model"
   ]
  },
  {
   "cell_type": "code",
   "execution_count": 7,
   "id": "bc740904-28a9-4dd9-bcd0-ab9ce94efc42",
   "metadata": {},
   "outputs": [
    {
     "data": {
      "text/plain": [
       "0.9685185185185186"
      ]
     },
     "execution_count": 7,
     "metadata": {},
     "output_type": "execute_result"
    }
   ],
   "source": [
    "#Random Forest Classifier\n",
    "RF_model = RandomForestClassifier()\n",
    "RF_model.fit(X_train, y_train)\n",
    "RF_model.score(X_test, y_test)"
   ]
  },
  {
   "cell_type": "markdown",
   "id": "7ca00ced-1a21-4252-917b-a5764ad10b9f",
   "metadata": {},
   "source": [
    "# K_Fold Method"
   ]
  },
  {
   "cell_type": "code",
   "execution_count": 8,
   "id": "bd3ce3b3-87d3-456d-88e2-92a303368940",
   "metadata": {},
   "outputs": [],
   "source": [
    "from sklearn.model_selection import KFold"
   ]
  },
  {
   "cell_type": "code",
   "execution_count": 9,
   "id": "71676821-cf54-4930-92ee-d0272f353aaf",
   "metadata": {},
   "outputs": [
    {
     "data": {
      "text/plain": [
       "KFold(n_splits=3, random_state=None, shuffle=False)"
      ]
     },
     "execution_count": 9,
     "metadata": {},
     "output_type": "execute_result"
    }
   ],
   "source": [
    "kf = KFold(n_splits=3)\n",
    "kf"
   ]
  },
  {
   "cell_type": "code",
   "execution_count": 10,
   "id": "8f0544f2-7bda-446c-b554-e92cda06375d",
   "metadata": {},
   "outputs": [],
   "source": [
    "def get_score(model, X_train, X_test, y_train, y_test):\n",
    "    model.fit(X_train, y_train)\n",
    "    return model.score(X_test, y_test)"
   ]
  },
  {
   "cell_type": "code",
   "execution_count": 11,
   "id": "69ad9292-dcf7-4113-8f14-ad5f64bec7f7",
   "metadata": {},
   "outputs": [
    {
     "name": "stderr",
     "output_type": "stream",
     "text": [
      "C:\\Python\\Python310\\lib\\site-packages\\sklearn\\linear_model\\_logistic.py:469: ConvergenceWarning: lbfgs failed to converge (status=1):\n",
      "STOP: TOTAL NO. of ITERATIONS REACHED LIMIT.\n",
      "\n",
      "Increase the number of iterations (max_iter) or scale the data as shown in:\n",
      "    https://scikit-learn.org/stable/modules/preprocessing.html\n",
      "Please also refer to the documentation for alternative solver options:\n",
      "    https://scikit-learn.org/stable/modules/linear_model.html#logistic-regression\n",
      "  n_iter_i = _check_optimize_result(\n"
     ]
    },
    {
     "data": {
      "text/plain": [
       "0.9574074074074074"
      ]
     },
     "execution_count": 11,
     "metadata": {},
     "output_type": "execute_result"
    }
   ],
   "source": [
    "get_score(LogisticRegression(), X_train, X_test, y_train, y_test)"
   ]
  },
  {
   "cell_type": "markdown",
   "id": "a94b0948-efee-4292-8273-5f2426a931e6",
   "metadata": {},
   "source": [
    "# Stratified kfold"
   ]
  },
  {
   "cell_type": "code",
   "execution_count": 18,
   "id": "952b8b96-0e5b-41e5-aa20-618f94505192",
   "metadata": {},
   "outputs": [],
   "source": [
    "from  sklearn.model_selection import StratifiedKFold, cross_val_score"
   ]
  },
  {
   "cell_type": "code",
   "execution_count": 19,
   "id": "179ed14f-0fa0-4e76-bd3a-5b43d379df6b",
   "metadata": {},
   "outputs": [],
   "source": [
    "folds =  StratifiedKFold(n_splits = 3)"
   ]
  },
  {
   "cell_type": "code",
   "execution_count": 20,
   "id": "0a9507c2-5ebc-4717-8bbb-ee6d86ae4110",
   "metadata": {},
   "outputs": [],
   "source": [
    "scores = cross_val_score(RF_model, X,y, cv = folds)\n"
   ]
  },
  {
   "cell_type": "code",
   "execution_count": 21,
   "id": "984d7d04-fc4e-4ee5-b853-e66d521476a3",
   "metadata": {},
   "outputs": [
    {
     "name": "stdout",
     "output_type": "stream",
     "text": [
      "The cross validation scores  are [0.94156928 0.95826377 0.92153589]\n"
     ]
    }
   ],
   "source": [
    "print(f\"The cross validation scores  are {scores}\")"
   ]
  },
  {
   "cell_type": "code",
   "execution_count": null,
   "id": "8537d32c-ad08-4853-a2aa-c9bdfe6b079d",
   "metadata": {},
   "outputs": [],
   "source": []
  }
 ],
 "metadata": {
  "kernelspec": {
   "display_name": "Python 3 (ipykernel)",
   "language": "python",
   "name": "python3"
  },
  "language_info": {
   "codemirror_mode": {
    "name": "ipython",
    "version": 3
   },
   "file_extension": ".py",
   "mimetype": "text/x-python",
   "name": "python",
   "nbconvert_exporter": "python",
   "pygments_lexer": "ipython3",
   "version": "3.10.4"
  }
 },
 "nbformat": 4,
 "nbformat_minor": 5
}
